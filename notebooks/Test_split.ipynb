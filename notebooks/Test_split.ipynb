{
 "cells": [
  {
   "cell_type": "code",
   "execution_count": 13,
   "id": "fad25a11-66df-478e-a804-9eb99cad2085",
   "metadata": {},
   "outputs": [],
   "source": [
    "import os\n",
    "\n",
    "os.chdir('/home/ubuntu/Thesis-KNMI-FoggyGAN/')"
   ]
  },
  {
   "cell_type": "code",
   "execution_count": 14,
   "id": "87569970-edc8-4254-93db-d4f5d1ce15f9",
   "metadata": {},
   "outputs": [
    {
     "data": {
      "text/plain": [
       "'/home/ubuntu/Thesis-KNMI-FoggyGAN'"
      ]
     },
     "execution_count": 14,
     "metadata": {},
     "output_type": "execute_result"
    }
   ],
   "source": [
    "os.getcwd()"
   ]
  },
  {
   "cell_type": "code",
   "execution_count": 15,
   "id": "8e7894e7-fd3f-46dd-99ec-208d50c7988e",
   "metadata": {},
   "outputs": [
    {
     "data": {
      "text/html": [
       "<div>\n",
       "<style scoped>\n",
       "    .dataframe tbody tr th:only-of-type {\n",
       "        vertical-align: middle;\n",
       "    }\n",
       "\n",
       "    .dataframe tbody tr th {\n",
       "        vertical-align: top;\n",
       "    }\n",
       "\n",
       "    .dataframe thead th {\n",
       "        text-align: right;\n",
       "    }\n",
       "</style>\n",
       "<table border=\"1\" class=\"dataframe\">\n",
       "  <thead>\n",
       "    <tr style=\"text-align: right;\">\n",
       "      <th></th>\n",
       "      <th>filepath</th>\n",
       "      <th>label</th>\n",
       "      <th>day_phase</th>\n",
       "      <th>filename</th>\n",
       "    </tr>\n",
       "  </thead>\n",
       "  <tbody>\n",
       "    <tr>\n",
       "      <th>0</th>\n",
       "      <td>/nas-research.knmi.nl/sensordata/CAMERA/RWS/A5...</td>\n",
       "      <td>No Fog</td>\n",
       "      <td>1</td>\n",
       "      <td>A50-HM1927-ID11542_20181102_0651.jpg</td>\n",
       "    </tr>\n",
       "    <tr>\n",
       "      <th>1</th>\n",
       "      <td>/nas-research.knmi.nl/sensordata/CAMERA/RWS/A1...</td>\n",
       "      <td>No Fog</td>\n",
       "      <td>1</td>\n",
       "      <td>A15-HM797-ID12045_20181103_0941.jpg</td>\n",
       "    </tr>\n",
       "    <tr>\n",
       "      <th>2</th>\n",
       "      <td>/nas-research.knmi.nl/sensordata/CAMERA/RWS/A2...</td>\n",
       "      <td>No Fog</td>\n",
       "      <td>1</td>\n",
       "      <td>A28-HM1982-ID13517_20181103_0801.jpg</td>\n",
       "    </tr>\n",
       "    <tr>\n",
       "      <th>3</th>\n",
       "      <td>/nas-research.knmi.nl/sensordata/CAMERA/RWS/A4...</td>\n",
       "      <td>No Fog</td>\n",
       "      <td>1</td>\n",
       "      <td>A4-HM643-ID111940_20181103_0831.jpg</td>\n",
       "    </tr>\n",
       "    <tr>\n",
       "      <th>4</th>\n",
       "      <td>/nas-research.knmi.nl/sensordata/CAMERA/RWS/A5...</td>\n",
       "      <td>No Fog</td>\n",
       "      <td>1</td>\n",
       "      <td>A50-HM1838-ID11510_20181103_1011.jpg</td>\n",
       "    </tr>\n",
       "    <tr>\n",
       "      <th>...</th>\n",
       "      <td>...</td>\n",
       "      <td>...</td>\n",
       "      <td>...</td>\n",
       "      <td>...</td>\n",
       "    </tr>\n",
       "    <tr>\n",
       "      <th>36354</th>\n",
       "      <td>/nas-research.knmi.nl/sensordata/CAMERA/RWS/A2...</td>\n",
       "      <td>No Fog</td>\n",
       "      <td>1</td>\n",
       "      <td>A2-HM765-ID10913_20170905_1100.jpg</td>\n",
       "    </tr>\n",
       "    <tr>\n",
       "      <th>36355</th>\n",
       "      <td>/nas-research.knmi.nl/sensordata/CAMERA/RWS/A4...</td>\n",
       "      <td>No Fog</td>\n",
       "      <td>11</td>\n",
       "      <td>A4-HM118-ID13975_20200121_1610.jpg</td>\n",
       "    </tr>\n",
       "    <tr>\n",
       "      <th>36356</th>\n",
       "      <td>/nas-research.knmi.nl/sensordata/CAMERA/RWS/A5...</td>\n",
       "      <td>Fog</td>\n",
       "      <td>0</td>\n",
       "      <td>A50-HM1907-ID11535_20200121_2300.jpg</td>\n",
       "    </tr>\n",
       "    <tr>\n",
       "      <th>36357</th>\n",
       "      <td>/nas-research.knmi.nl/sensordata/CAMERA/RWS/A5...</td>\n",
       "      <td>No Fog</td>\n",
       "      <td>20</td>\n",
       "      <td>A50-HM1858-ID11642_20170915_0431.jpg</td>\n",
       "    </tr>\n",
       "    <tr>\n",
       "      <th>36358</th>\n",
       "      <td>/nas-research.knmi.nl/sensordata/CAMERA/RWS/A2...</td>\n",
       "      <td>Fog</td>\n",
       "      <td>0</td>\n",
       "      <td>A2-HM758-ID10911_20200122_0500.jpg</td>\n",
       "    </tr>\n",
       "  </tbody>\n",
       "</table>\n",
       "<p>42858 rows × 4 columns</p>\n",
       "</div>"
      ],
      "text/plain": [
       "                                                filepath   label  day_phase  \\\n",
       "0      /nas-research.knmi.nl/sensordata/CAMERA/RWS/A5...  No Fog          1   \n",
       "1      /nas-research.knmi.nl/sensordata/CAMERA/RWS/A1...  No Fog          1   \n",
       "2      /nas-research.knmi.nl/sensordata/CAMERA/RWS/A2...  No Fog          1   \n",
       "3      /nas-research.knmi.nl/sensordata/CAMERA/RWS/A4...  No Fog          1   \n",
       "4      /nas-research.knmi.nl/sensordata/CAMERA/RWS/A5...  No Fog          1   \n",
       "...                                                  ...     ...        ...   \n",
       "36354  /nas-research.knmi.nl/sensordata/CAMERA/RWS/A2...  No Fog          1   \n",
       "36355  /nas-research.knmi.nl/sensordata/CAMERA/RWS/A4...  No Fog         11   \n",
       "36356  /nas-research.knmi.nl/sensordata/CAMERA/RWS/A5...     Fog          0   \n",
       "36357  /nas-research.knmi.nl/sensordata/CAMERA/RWS/A5...  No Fog         20   \n",
       "36358  /nas-research.knmi.nl/sensordata/CAMERA/RWS/A2...     Fog          0   \n",
       "\n",
       "                                   filename  \n",
       "0      A50-HM1927-ID11542_20181102_0651.jpg  \n",
       "1       A15-HM797-ID12045_20181103_0941.jpg  \n",
       "2      A28-HM1982-ID13517_20181103_0801.jpg  \n",
       "3       A4-HM643-ID111940_20181103_0831.jpg  \n",
       "4      A50-HM1838-ID11510_20181103_1011.jpg  \n",
       "...                                     ...  \n",
       "36354    A2-HM765-ID10913_20170905_1100.jpg  \n",
       "36355    A4-HM118-ID13975_20200121_1610.jpg  \n",
       "36356  A50-HM1907-ID11535_20200121_2300.jpg  \n",
       "36357  A50-HM1858-ID11642_20170915_0431.jpg  \n",
       "36358    A2-HM758-ID10911_20200122_0500.jpg  \n",
       "\n",
       "[42858 rows x 4 columns]"
      ]
     },
     "execution_count": 15,
     "metadata": {},
     "output_type": "execute_result"
    }
   ],
   "source": [
    "import pandas as pd\n",
    "\n",
    "fpath = 'data/raw/allAnnotations20210422_pkv4.pkl'\n",
    "\n",
    "df = pd.read_pickle(fpath)\n",
    "df"
   ]
  },
  {
   "cell_type": "code",
   "execution_count": 16,
   "id": "e3ff0f81-0c8b-4e3a-81de-ff7fdda72a41",
   "metadata": {},
   "outputs": [],
   "source": [
    "from sklearn.model_selection import train_test_split\n",
    "\n",
    "train, test = train_test_split(df, test_size=0.2, stratify=df[['label', 'day_phase']], random_state=0)"
   ]
  },
  {
   "cell_type": "code",
   "execution_count": 17,
   "id": "5d31ea70-0d1b-46d3-a838-6c36f0c0e403",
   "metadata": {},
   "outputs": [],
   "source": [
    "train.to_pickle('data/raw/train_annotations.pkl')\n",
    "test.to_pickle('data/raw/test_annotations.pkl')"
   ]
  },
  {
   "cell_type": "code",
   "execution_count": 18,
   "id": "ac679207-c551-4456-83ed-cdb6baeb173b",
   "metadata": {},
   "outputs": [],
   "source": [
    "os.mkdir('data/raw/train')\n",
    "os.mkdir('data/raw/test')"
   ]
  },
  {
   "cell_type": "code",
   "execution_count": 19,
   "id": "0d9496c8-0549-4012-be76-0f53421fb9af",
   "metadata": {},
   "outputs": [],
   "source": [
    "import shutil\n",
    "\n",
    "datadir = 'data/raw/images_data/'\n",
    "\n",
    "# Create directory with training images\n",
    "for fname in train['filename'].values:\n",
    "    fpath = os.path.join(datadir, fname)\n",
    "    shutil.copy(fpath, os.path.join('data/raw/train', fname))"
   ]
  },
  {
   "cell_type": "code",
   "execution_count": 20,
   "id": "c0106b3a-2b56-41b5-9f74-8d6fd1bd2472",
   "metadata": {},
   "outputs": [],
   "source": [
    "# Create directory with test images\n",
    "\n",
    "for fname in test['filename'].values:\n",
    "    fpath = os.path.join(datadir, fname)\n",
    "    shutil.copy(fpath, os.path.join('data/raw/test', fname))"
   ]
  },
  {
   "cell_type": "code",
   "execution_count": null,
   "id": "7226e552-dfd6-4ab6-9435-66a91d783b0b",
   "metadata": {},
   "outputs": [],
   "source": []
  },
  {
   "cell_type": "code",
   "execution_count": null,
   "id": "39522490-eb9e-47d6-9ac9-f528c1b5e4d1",
   "metadata": {},
   "outputs": [],
   "source": []
  }
 ],
 "metadata": {
  "kernelspec": {
   "display_name": "Python 3",
   "language": "python",
   "name": "python3"
  },
  "language_info": {
   "codemirror_mode": {
    "name": "ipython",
    "version": 3
   },
   "file_extension": ".py",
   "mimetype": "text/x-python",
   "name": "python",
   "nbconvert_exporter": "python",
   "pygments_lexer": "ipython3",
   "version": "3.6.9"
  }
 },
 "nbformat": 4,
 "nbformat_minor": 5
}
