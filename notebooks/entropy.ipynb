{
 "cells": [
  {
   "cell_type": "code",
   "execution_count": 1,
   "id": "315ff0f0-675d-47a0-bab8-4b884ef9a9c3",
   "metadata": {},
   "outputs": [],
   "source": [
    "import os\n",
    "os.chdir('/home/ubuntu/Thesis-KNMI-FoggyGAN/')\n",
    "\n",
    "A_fnames = [fname for fname in os.listdir('data/raw/trainA3') if fname.endswith('jpg')]\n",
    "B_fnames = [fname for fname in os.listdir('data/raw/trainB3') if fname.endswith('jpg')]\n",
    "\n",
    "A_datadir = 'data/raw/trainA3'\n",
    "B_datadir = 'data/raw/trainB3'"
   ]
  },
  {
   "cell_type": "code",
   "execution_count": 88,
   "id": "adfc8f37-f29e-4981-a999-83261bb10a1e",
   "metadata": {},
   "outputs": [],
   "source": [
    "from matplotlib import pyplot as plt\n",
    "\n",
    "A_images = []\n",
    "for fname in A_fnames:\n",
    "    fpath = os.path.join(A_datadir, fname)\n",
    "    img = plt.imread(fpath)\n",
    "    A_images.append(img)\n",
    "    \n",
    "B_images = []\n",
    "for fname in B_fnames:\n",
    "    fpath = os.path.join(B_datadir, fname)\n",
    "    img = plt.imread(fpath)\n",
    "    B_images.append(img)"
   ]
  },
  {
   "cell_type": "code",
   "execution_count": 89,
   "id": "56a38c7a-398a-4e67-a761-065f837fe663",
   "metadata": {},
   "outputs": [],
   "source": [
    "from skimage.color import rgb2gray\n",
    "\n",
    "A_images_gray = [rgb2gray(image) for image in A_images]\n",
    "B_images_gray = [rgb2gray(image) for image in B_images]"
   ]
  },
  {
   "cell_type": "code",
   "execution_count": 90,
   "id": "3b19bb71-9f41-4eb5-842a-f69b37bd8722",
   "metadata": {},
   "outputs": [
    {
     "data": {
      "text/plain": [
       "(13.055816882747342, 11.182410029847171)"
      ]
     },
     "execution_count": 90,
     "metadata": {},
     "output_type": "execute_result"
    }
   ],
   "source": [
    "from skimage.measure import shannon_entropy\n",
    "import numpy as np\n",
    "\n",
    "A_entropy_gray = np.array([shannon_entropy(image) for image in A_images_gray])\n",
    "B_entropy_gray = np.array([shannon_entropy(image) for image in B_images_gray])\n",
    "\n",
    "A_entropy_gray.mean(), B_entropy_gray.mean()"
   ]
  },
  {
   "cell_type": "code",
   "execution_count": 91,
   "id": "ae633cc4-3226-4373-9c36-b36c36afd197",
   "metadata": {},
   "outputs": [
    {
     "data": {
      "text/plain": [
       "Ttest_indResult(statistic=38.15028754139103, pvalue=9.764686470846979e-272)"
      ]
     },
     "execution_count": 91,
     "metadata": {},
     "output_type": "execute_result"
    }
   ],
   "source": [
    "from scipy.stats import ttest_ind\n",
    "\n",
    "ttest_ind(A_entropy_gray, B_entropy_gray)"
   ]
  },
  {
   "cell_type": "code",
   "execution_count": 92,
   "id": "3b7e8b21-b7ac-4074-b81a-7400bffe5dd9",
   "metadata": {},
   "outputs": [
    {
     "data": {
      "text/plain": [
       "(1.5146573025362458, 1.5846692659949715)"
      ]
     },
     "execution_count": 92,
     "metadata": {},
     "output_type": "execute_result"
    }
   ],
   "source": [
    "A_entropy_gray.std(), B_entropy_gray.std()"
   ]
  },
  {
   "cell_type": "code",
   "execution_count": 93,
   "id": "3245d52a-278f-4551-b3a7-16242c459005",
   "metadata": {},
   "outputs": [
    {
     "data": {
      "image/png": "[encoded data removed]",
      "text/plain": [
       "<Figure size 432x288 with 1 Axes>"
      ]
     },
     "metadata": {
      "needs_background": "light"
     },
     "output_type": "display_data"
    }
   ],
   "source": [
    "plt.hist(A_entropy_gray, bins=40, alpha=0.5, label='No Fog')\n",
    "plt.hist(B_entropy_gray, bins=40, alpha=0.5, label='Fog')\n",
    "plt.legend(loc='upper left')\n",
    "plt.show()"
   ]
  },
  {
   "cell_type": "code",
   "execution_count": null,
   "id": "b3c7e269-e6e4-4040-8538-ff89e567aa80",
   "metadata": {},
   "outputs": [],
   "source": []
  },
  {
   "cell_type": "code",
   "execution_count": null,
   "id": "04ed254f-e7ea-4cf0-be02-956f4ac67155",
   "metadata": {},
   "outputs": [],
   "source": []
  },
  {
   "cell_type": "code",
   "execution_count": null,
   "id": "00b687e2-db98-4ba5-81cc-43f23d449184",
   "metadata": {},
   "outputs": [],
   "source": []
  }
 ],
 "metadata": {
  "kernelspec": {
   "display_name": "fogkernel",
   "language": "python",
   "name": "fogkernel"
  },
  "language_info": {
   "codemirror_mode": {
    "name": "ipython",
    "version": 3
   },
   "file_extension": ".py",
   "mimetype": "text/x-python",
   "name": "python",
   "nbconvert_exporter": "python",
   "pygments_lexer": "ipython3",
   "version": "3.8.5"
  }
 },
 "nbformat": 4,
 "nbformat_minor": 5
}
